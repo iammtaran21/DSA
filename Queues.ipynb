{
 "cells": [
  {
   "cell_type": "markdown",
   "id": "413f50c5",
   "metadata": {},
   "source": [
    "## Queues"
   ]
  },
  {
   "cell_type": "markdown",
   "id": "55918d37",
   "metadata": {},
   "source": [
    "### First in First Out FIFO\n"
   ]
  },
  {
   "cell_type": "code",
   "execution_count": 1,
   "id": "e304ee53",
   "metadata": {},
   "outputs": [],
   "source": [
    "stock=[]"
   ]
  },
  {
   "cell_type": "markdown",
   "id": "c5c07e91",
   "metadata": {},
   "source": [
    "### Enqueue"
   ]
  },
  {
   "cell_type": "code",
   "execution_count": 2,
   "id": "1593e39a",
   "metadata": {},
   "outputs": [
    {
     "name": "stdout",
     "output_type": "stream",
     "text": [
      "[131]\n"
     ]
    }
   ],
   "source": [
    "stock.insert(0,131)\n",
    "print(stock)"
   ]
  },
  {
   "cell_type": "code",
   "execution_count": 3,
   "id": "8855a882",
   "metadata": {},
   "outputs": [
    {
     "name": "stdout",
     "output_type": "stream",
     "text": [
      "[133, 132, 131]\n"
     ]
    }
   ],
   "source": [
    "stock.insert(0,132)\n",
    "stock.insert(0,133)\n",
    "print(stock)"
   ]
  },
  {
   "cell_type": "markdown",
   "id": "e1259618",
   "metadata": {},
   "source": [
    "### Dequeue"
   ]
  },
  {
   "cell_type": "code",
   "execution_count": 4,
   "id": "b33e50ff",
   "metadata": {},
   "outputs": [
    {
     "data": {
      "text/plain": [
       "131"
      ]
     },
     "execution_count": 4,
     "metadata": {},
     "output_type": "execute_result"
    }
   ],
   "source": [
    "stock.pop()"
   ]
  },
  {
   "cell_type": "code",
   "execution_count": 5,
   "id": "0536e7ce",
   "metadata": {},
   "outputs": [
    {
     "data": {
      "text/plain": [
       "132"
      ]
     },
     "execution_count": 5,
     "metadata": {},
     "output_type": "execute_result"
    }
   ],
   "source": [
    "stock.pop()"
   ]
  },
  {
   "cell_type": "markdown",
   "id": "fbfb9cd3",
   "metadata": {},
   "source": [
    "### Collections.deque "
   ]
  },
  {
   "cell_type": "code",
   "execution_count": 6,
   "id": "9c382d76",
   "metadata": {},
   "outputs": [],
   "source": [
    "from collections import deque"
   ]
  },
  {
   "cell_type": "code",
   "execution_count": 7,
   "id": "319bbed8",
   "metadata": {},
   "outputs": [],
   "source": [
    "q= deque()"
   ]
  },
  {
   "cell_type": "markdown",
   "id": "53dfb9f7",
   "metadata": {},
   "source": [
    "### Enqueue"
   ]
  },
  {
   "cell_type": "code",
   "execution_count": 9,
   "id": "d8267bc8",
   "metadata": {},
   "outputs": [
    {
     "name": "stdout",
     "output_type": "stream",
     "text": [
      "deque([5])\n"
     ]
    }
   ],
   "source": [
    "q.appendleft(5)\n",
    "print(q)"
   ]
  },
  {
   "cell_type": "code",
   "execution_count": 10,
   "id": "dc9be5ac",
   "metadata": {},
   "outputs": [
    {
     "name": "stdout",
     "output_type": "stream",
     "text": [
      "deque([10, 8, 5])\n"
     ]
    }
   ],
   "source": [
    "q.appendleft(8)\n",
    "q.appendleft(10)\n",
    "print(q)"
   ]
  },
  {
   "cell_type": "markdown",
   "id": "ed8edb67",
   "metadata": {},
   "source": [
    "### Dequeue"
   ]
  },
  {
   "cell_type": "code",
   "execution_count": 11,
   "id": "200a6b82",
   "metadata": {},
   "outputs": [
    {
     "data": {
      "text/plain": [
       "5"
      ]
     },
     "execution_count": 11,
     "metadata": {},
     "output_type": "execute_result"
    }
   ],
   "source": [
    "q.pop()"
   ]
  },
  {
   "cell_type": "code",
   "execution_count": 12,
   "id": "9cb32d7a",
   "metadata": {},
   "outputs": [
    {
     "data": {
      "text/plain": [
       "8"
      ]
     },
     "execution_count": 12,
     "metadata": {},
     "output_type": "execute_result"
    }
   ],
   "source": [
    "q.pop()"
   ]
  },
  {
   "cell_type": "markdown",
   "id": "64611b1e",
   "metadata": {},
   "source": [
    "### Queue class"
   ]
  },
  {
   "cell_type": "code",
   "execution_count": 13,
   "id": "703f215d",
   "metadata": {},
   "outputs": [],
   "source": [
    "from collections import deque\n"
   ]
  },
  {
   "cell_type": "code",
   "execution_count": 14,
   "id": "8fda9f2f",
   "metadata": {},
   "outputs": [],
   "source": [
    "class Queue:\n",
    "    def __init__(self):\n",
    "        self.buffer=deque()\n",
    "    \n",
    "    def enqueue(self,val):\n",
    "        self.buffer.appendleft(val)\n",
    "    \n",
    "    def dequeue(self):\n",
    "        return self.buffer.pop()\n",
    "    \n",
    "    def is_empty(self):\n",
    "        return len(self.buffer)==0\n",
    "    \n",
    "    def size(self):\n",
    "        return len(self.buffer)\n",
    "    "
   ]
  },
  {
   "cell_type": "code",
   "execution_count": 15,
   "id": "5b22c11e",
   "metadata": {},
   "outputs": [],
   "source": [
    "pq= Queue()\n",
    "\n",
    "pq.enqueue({\n",
    "   'company': 'Wall Mart',\n",
    "    'timestamp': '15 apr, 11.01 AM',\n",
    "    'price': 131\n",
    "})\n",
    "pq.enqueue({\n",
    "    'company': 'Wall Mart',\n",
    "    'timestamp': '15 apr, 11.02 AM',\n",
    "    'price': 132\n",
    "})\n",
    "pq.enqueue({\n",
    "    'company': 'Wall Mart',\n",
    "    'timestamp': '15 apr, 11.03 AM',\n",
    "    'price': 135\n",
    "})"
   ]
  },
  {
   "cell_type": "code",
   "execution_count": 16,
   "id": "e394f4bc",
   "metadata": {},
   "outputs": [
    {
     "data": {
      "text/plain": [
       "3"
      ]
     },
     "execution_count": 16,
     "metadata": {},
     "output_type": "execute_result"
    }
   ],
   "source": [
    "pq.size()"
   ]
  },
  {
   "cell_type": "code",
   "execution_count": 17,
   "id": "00ec420c",
   "metadata": {},
   "outputs": [
    {
     "data": {
      "text/plain": [
       "{'company': 'Wall Mart', 'timestamp': '15 apr, 11.01 AM', 'price': 131}"
      ]
     },
     "execution_count": 17,
     "metadata": {},
     "output_type": "execute_result"
    }
   ],
   "source": [
    "pq.dequeue()"
   ]
  },
  {
   "cell_type": "code",
   "execution_count": 18,
   "id": "f0c7fa55",
   "metadata": {},
   "outputs": [
    {
     "data": {
      "text/plain": [
       "{'company': 'Wall Mart', 'timestamp': '15 apr, 11.02 AM', 'price': 132}"
      ]
     },
     "execution_count": 18,
     "metadata": {},
     "output_type": "execute_result"
    }
   ],
   "source": [
    "pq.dequeue()"
   ]
  },
  {
   "cell_type": "code",
   "execution_count": 19,
   "id": "890708c5",
   "metadata": {},
   "outputs": [
    {
     "data": {
      "text/plain": [
       "False"
      ]
     },
     "execution_count": 19,
     "metadata": {},
     "output_type": "execute_result"
    }
   ],
   "source": [
    "pq.is_empty()"
   ]
  },
  {
   "cell_type": "markdown",
   "id": "afdb19b8",
   "metadata": {},
   "source": [
    "## Exercise"
   ]
  },
  {
   "cell_type": "markdown",
   "id": "76568339",
   "metadata": {},
   "source": [
    "Design a food ordering system where your python program will run two threads,\n",
    "\n",
    "Place Order: This thread will be placing an order and inserting that into a queue. This thread places new order every 0.5 second. (hint: use time.sleep(0.5) function)\n",
    "Serve Order: This thread will server the order. All you need to do is pop the order out of the queue and print it. This thread serves an order every 2 seconds. Also start this thread 1 second after place order thread is started.\n",
    "Use this video to get yourself familiar with multithreading in python\n",
    "\n",
    "Pass following list as an argument to place order thread,\n",
    "\n",
    "orders = ['pizza','samosa','pasta','biryani','burger']\n",
    "This problem is a producer,consumer problem where place_order thread is producing orders whereas server_order thread is consuming the food orders. Use Queue class implemented in a video tutorial."
   ]
  },
  {
   "cell_type": "code",
   "execution_count": 6,
   "id": "18bcb7db",
   "metadata": {},
   "outputs": [],
   "source": [
    "import threading\n",
    "import time"
   ]
  },
  {
   "cell_type": "code",
   "execution_count": 57,
   "id": "eeb760c5",
   "metadata": {},
   "outputs": [],
   "source": [
    "class Queue:\n",
    "    def __init__(self):\n",
    "        self.buffer=deque()\n",
    "    def enqueue(self,val):\n",
    "        self.buffer.appendleft(val)\n",
    "    def dequeue(self):\n",
    "        self.buffer.pop()\n",
    "    "
   ]
  },
  {
   "cell_type": "code",
   "execution_count": 58,
   "id": "a113c149",
   "metadata": {},
   "outputs": [],
   "source": [
    "Q=Queue()"
   ]
  },
  {
   "cell_type": "code",
   "execution_count": null,
   "id": "7a99ffc9",
   "metadata": {},
   "outputs": [
    {
     "name": "stdout",
     "output_type": "stream",
     "text": [
      "Placing order for: pizza\n",
      "Now serving:  pizza\n",
      "Placing order for: samosa\n",
      "Now serving:  samosa\n",
      "Placing order for: pasta\n",
      "Placing order for: biryani\n",
      "Now serving:  pasta\n",
      "Placing order for: burger\n",
      "Now serving:  biryani\n",
      "Now serving:  burger\n"
     ]
    }
   ],
   "source": [
    "import threading\n",
    "import time\n",
    "\n",
    "from collections import deque\n",
    "\n",
    "class Queue:\n",
    "    def __init__(self):\n",
    "        self.buffer = deque()\n",
    "\n",
    "    def enqueue(self, val):\n",
    "        self.buffer.appendleft(val)\n",
    "\n",
    "    def dequeue(self):\n",
    "        if len(self.buffer)==0:\n",
    "            return\n",
    "\n",
    "        return self.buffer.pop()\n",
    "\n",
    "    def is_empty(self):\n",
    "        return len(self.buffer) == 0\n",
    "\n",
    "    def size(self):\n",
    "        return len(self.buffer)\n",
    "\n",
    "food_order_queue = Queue()\n",
    "\n",
    "def place_orders(orders):\n",
    "    for order in orders:\n",
    "        print(\"Placing order for:\",order)\n",
    "        food_order_queue.enqueue(order)\n",
    "        time.sleep(2)\n",
    "\n",
    "\n",
    "def serve_orders():\n",
    "#     time.sleep(1)\n",
    "    while True:\n",
    "        order = food_order_queue.dequeue()\n",
    "        if order is not None:\n",
    "            print(\"Now serving: \",order)\n",
    "            time.sleep(4)\n",
    "\n",
    "if __name__ == '__main__':\n",
    "    orders = ['pizza','samosa','pasta','biryani','burger']\n",
    "    t1 = threading.Thread(target=place_orders, args=(orders,))\n",
    "    t2 = threading.Thread(target=serve_orders)\n",
    "\n",
    "    t1.start()\n",
    "    t2.start()\n",
    "    t1.join()\n",
    "    t2.join()"
   ]
  },
  {
   "cell_type": "code",
   "execution_count": null,
   "id": "500c7f4d",
   "metadata": {},
   "outputs": [],
   "source": []
  },
  {
   "cell_type": "code",
   "execution_count": null,
   "id": "d4399e59",
   "metadata": {},
   "outputs": [],
   "source": []
  }
 ],
 "metadata": {
  "kernelspec": {
   "display_name": "Python 3 (ipykernel)",
   "language": "python",
   "name": "python3"
  },
  "language_info": {
   "codemirror_mode": {
    "name": "ipython",
    "version": 3
   },
   "file_extension": ".py",
   "mimetype": "text/x-python",
   "name": "python",
   "nbconvert_exporter": "python",
   "pygments_lexer": "ipython3",
   "version": "3.9.13"
  }
 },
 "nbformat": 4,
 "nbformat_minor": 5
}
